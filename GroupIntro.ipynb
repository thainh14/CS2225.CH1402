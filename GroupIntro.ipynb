{
  "nbformat": 4,
  "nbformat_minor": 0,
  "metadata": {
    "colab": {
      "name": "GroupIntro.ipynb",
      "provenance": [],
      "include_colab_link": true
    },
    "kernelspec": {
      "name": "python3",
      "display_name": "Python 3"
    }
  },
  "cells": [
    {
      "cell_type": "markdown",
      "metadata": {
        "id": "view-in-github",
        "colab_type": "text"
      },
      "source": [
        "<a href=\"https://colab.research.google.com/github/vuvh87/CS2225.CH1402/blob/master/GroupIntro.ipynb\" target=\"_parent\"><img src=\"https://colab.research.google.com/assets/colab-badge.svg\" alt=\"Open In Colab\"/></a>"
      ]
    },
    {
      "cell_type": "code",
      "metadata": {
        "id": "Glo07sbXlu1N",
        "colab_type": "code",
        "colab": {}
      },
      "source": [
        "# Thông tin nhóm 17\n",
        "# CH1902039 - Võ Hoàng Vũ\n",
        "# CH1901030 - Nguyễn Hữu Thái\n",
        "# CH1902003 - Nguyễn Thúc Hảo"
      ],
      "execution_count": null,
      "outputs": []
    }
  ]
}